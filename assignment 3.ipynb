{
 "cells": [
  {
   "cell_type": "code",
   "execution_count": 1,
   "metadata": {},
   "outputs": [
    {
     "name": "stdout",
     "output_type": "stream",
     "text": [
      "enter first value8\n",
      "enter second value2\n",
      "enter operator**\n",
      "64 answer\n"
     ]
    }
   ],
   "source": [
    "# QUESTION 1\n",
    "value1= int (input ('enter first value'))\n",
    "value2= int (input ('enter second value'))\n",
    "operator= input('enter operator')\n",
    "\n",
    "if operator == '+':\n",
    "    value = value1 + value2\n",
    "    print(value,'answer')\n",
    "elif operator == '-':\n",
    "    value = value1 - value2\n",
    "    print(value,'answer')\n",
    "elif operator == '*':\n",
    "    value = value1 * value2\n",
    "    print(val,'answer')\n",
    "elif operator == '/':\n",
    "    value = value1 / value2\n",
    "    print(value,'answer')\n",
    "elif operator == '**':\n",
    "    value = value1**value2\n",
    "    print(value,'answer')    \n",
    "else:\n",
    "    print('enter correct operator')"
   ]
  },
  {
   "cell_type": "code",
   "execution_count": 2,
   "metadata": {},
   "outputs": [
    {
     "name": "stdout",
     "output_type": "stream",
     "text": [
      "{'first name': 'faizan', 'last name': 'munir', 'city': 'karachi', 'education': 'BECS'}\n"
     ]
    }
   ],
   "source": [
    "# QUESTION 3\n",
    "classes = {\n",
    "    'first name':'faizan',\n",
    "    'last name':'munir',\n",
    "    'city':'karachi'\n",
    "}\n",
    "classes['education']='BECS'\n",
    "print(classes)"
   ]
  },
  {
   "cell_type": "code",
   "execution_count": 3,
   "metadata": {},
   "outputs": [
    {
     "name": "stdout",
     "output_type": "stream",
     "text": [
      "sum= 800\n"
     ]
    }
   ],
   "source": [
    "# QUESTION 4\n",
    "dictionary = {'a':300,'b':400,'d':100}\n",
    "print('sum=',sum(dictionary.values()))"
   ]
  },
  {
   "cell_type": "code",
   "execution_count": 5,
   "metadata": {},
   "outputs": [
    {
     "name": "stdout",
     "output_type": "stream",
     "text": [
      "enter your valuefaizan\n",
      "value you entered not in list\n",
      "value you entered not in list\n",
      "value you entered not in list\n",
      "value you entered not in list\n",
      "value you entered not in list\n",
      "value you entered already in list\n"
     ]
    }
   ],
   "source": [
    "# QUESTION 5\n",
    "lists=[2,4,6,8,10,'faizan',12,'munir']\n",
    "value=input('enter your value')\n",
    "for a in lists:       \n",
    "    if (a==value):\n",
    "        print ('value you entered already in list')\n",
    "        break\n",
    "    else:\n",
    "            print ('value you entered not in list')"
   ]
  },
  {
   "cell_type": "code",
   "execution_count": 7,
   "metadata": {},
   "outputs": [
    {
     "name": "stdout",
     "output_type": "stream",
     "text": [
      "enter your value4\n",
      "value you entered not in list\n",
      "value you entered already in list\n"
     ]
    }
   ],
   "source": [
    "# QUESTION 5\n",
    "lists=[2,4,6,8,10,'faizan',12,'munir']\n",
    "value=int(input('enter your value'))\n",
    "for a in lists:       \n",
    "    if (a==value):\n",
    "        print ('value you entered already in list')\n",
    "        break\n",
    "    else:\n",
    "            print ('value you entered not in list')"
   ]
  },
  {
   "cell_type": "code",
   "execution_count": 8,
   "metadata": {},
   "outputs": [
    {
     "name": "stdout",
     "output_type": "stream",
     "text": [
      "enter the keya\n",
      "Key is present in the dictionary \n"
     ]
    }
   ],
   "source": [
    "# QUESTION 6\n",
    "d = {'a': 10, 'b': 20, 'c': 30, 'd': 40, 'e': 50, 'f': 60}\n",
    "inputs=input('enter the key')\n",
    "if inputs in d.keys():\n",
    "      print('Key is present in the dictionary ')\n",
    "else:\n",
    "      print('Key is not present in the dictionary')"
   ]
  },
  {
   "cell_type": "code",
   "execution_count": 12,
   "metadata": {},
   "outputs": [
    {
     "name": "stdout",
     "output_type": "stream",
     "text": [
      "there is numeric numb in list\n",
      "there is numeric numb in list\n",
      "there is numeric numb in list\n",
      "there is numeric numb in list\n",
      "there is numeric numb in list\n",
      "there is no numeric number in list\n",
      "there is numeric numb in list\n",
      "there is no numeric number in list\n"
     ]
    }
   ],
   "source": [
    "# QUESTION 2\n",
    "a=[1,2,3,4,5,'faizan',8,'munir']\n",
    "for i in a:\n",
    "    if type(i)== int:\n",
    "        print('there is numeric numb in list')\n",
    "    else:\n",
    "            print( 'there is no numeric number in list')"
   ]
  },
  {
   "cell_type": "code",
   "execution_count": null,
   "metadata": {},
   "outputs": [],
   "source": []
  }
 ],
 "metadata": {
  "kernelspec": {
   "display_name": "Python 3",
   "language": "python",
   "name": "python3"
  },
  "language_info": {
   "codemirror_mode": {
    "name": "ipython",
    "version": 3
   },
   "file_extension": ".py",
   "mimetype": "text/x-python",
   "name": "python",
   "nbconvert_exporter": "python",
   "pygments_lexer": "ipython3",
   "version": "3.7.4"
  }
 },
 "nbformat": 4,
 "nbformat_minor": 2
}
