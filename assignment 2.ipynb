{
 "cells": [
  {
   "cell_type": "code",
   "execution_count": 6,
   "metadata": {},
   "outputs": [
    {
     "name": "stdout",
     "output_type": "stream",
     "text": [
      "enter your LCA marks84\n",
      "enter your DBMS marks74\n",
      "enter your C++ marks68\n",
      "enter your OOP marks72\n",
      "enter your DS marks70\n",
      "grade B+\n"
     ]
    }
   ],
   "source": [
    "# QUESTION 1\n",
    "a= int (input('enter your LCA marks'))\n",
    "b= int (input('enter your DBMS marks'))\n",
    "c= int (input('enter your C++ marks'))\n",
    "d= int (input('enter your OOP marks'))\n",
    "e= int (input('enter your DS marks'))\n",
    "per=((a+b+c+d+e)/500)*100\n",
    "if (per>=90):\n",
    "        print('grade A+')\n",
    "elif(per>=80):\n",
    "         print('grade A')\n",
    "elif(per>=70):      \n",
    "         print('grade B+')\n",
    "elif(per>=60): \n",
    "         print('grade B')\n",
    "elif(per>=50):\n",
    "         print('grade C+')\n",
    "else:\n",
    "         print('grade F')"
   ]
  },
  {
   "cell_type": "code",
   "execution_count": 20,
   "metadata": {},
   "outputs": [
    {
     "name": "stdout",
     "output_type": "stream",
     "text": [
      "enter any number you want4\n",
      "number is even\n"
     ]
    }
   ],
   "source": [
    "# QUESTION2\n",
    "a=int(input('enter any number you want'))\n",
    "if a%2 == 0:\n",
    "    print('number is even')\n",
    "else:\n",
    "    print ('number is odd')"
   ]
  },
  {
   "cell_type": "code",
   "execution_count": 1,
   "metadata": {},
   "outputs": [
    {
     "name": "stdout",
     "output_type": "stream",
     "text": [
      "the length of array is 6\n"
     ]
    }
   ],
   "source": [
    "# QUESTION 3\n",
    "arr=['faizan','waqas','farhan',1,0.8,True]\n",
    "print ('the length of array is',len(arr))"
   ]
  },
  {
   "cell_type": "code",
   "execution_count": 2,
   "metadata": {},
   "outputs": [
    {
     "name": "stdout",
     "output_type": "stream",
     "text": [
      "the length of array is 7\n"
     ]
    }
   ],
   "source": [
    "# QUESTION 3\n",
    "arr3=len(['faizan','waqas','farhan',1,0.8,True,'kashif'])\n",
    "print ('the length of array is',arr3)"
   ]
  },
  {
   "cell_type": "code",
   "execution_count": 4,
   "metadata": {},
   "outputs": [
    {
     "name": "stdout",
     "output_type": "stream",
     "text": [
      "all numeric number sum is 55\n"
     ]
    }
   ],
   "source": [
    "# QUESTION 4\n",
    "arr1=[4,20,14,17,35,'faizan']\n",
    "arr2=arr1[0:4]\n",
    "print('all numeric number sum is',sum(arr2))"
   ]
  },
  {
   "cell_type": "code",
   "execution_count": 5,
   "metadata": {},
   "outputs": [
    {
     "name": "stdout",
     "output_type": "stream",
     "text": [
      "all numeric number sum is 55\n"
     ]
    }
   ],
   "source": [
    "#QUESTION 4\n",
    "arr1=[4,20,14,17,35,'faizan']\n",
    "arr2=sum(arr1[0:4])\n",
    "print('all numeric number sum is',arr2)\n"
   ]
  },
  {
   "cell_type": "code",
   "execution_count": 6,
   "metadata": {},
   "outputs": [
    {
     "name": "stdout",
     "output_type": "stream",
     "text": [
      "35\n"
     ]
    }
   ],
   "source": [
    "# QUESTION 5\n",
    "a=max([4,20,14,17,35])\n",
    "print(a)\n"
   ]
  },
  {
   "cell_type": "code",
   "execution_count": 10,
   "metadata": {},
   "outputs": [
    {
     "name": "stdout",
     "output_type": "stream",
     "text": [
      "1\n",
      "1\n",
      "2\n",
      "3\n"
     ]
    }
   ],
   "source": [
    "#QUESTION 6\n",
    "array=[1, 1, 2, 3, 5, 8, 13, 21, 34, 55, 89]\n",
    "x=len(array)\n",
    "for i in range (x):\n",
    "  if array[i]<5:\n",
    "    print(array[i])\n",
    "    \n"
   ]
  },
  {
   "cell_type": "code",
   "execution_count": null,
   "metadata": {},
   "outputs": [],
   "source": []
  }
 ],
 "metadata": {
  "kernelspec": {
   "display_name": "Python 3",
   "language": "python",
   "name": "python3"
  },
  "language_info": {
   "codemirror_mode": {
    "name": "ipython",
    "version": 3
   },
   "file_extension": ".py",
   "mimetype": "text/x-python",
   "name": "python",
   "nbconvert_exporter": "python",
   "pygments_lexer": "ipython3",
   "version": "3.7.4"
  }
 },
 "nbformat": 4,
 "nbformat_minor": 2
}
