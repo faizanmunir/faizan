{
 "cells": [
  {
   "cell_type": "code",
   "execution_count": 1,
   "metadata": {},
   "outputs": [
    {
     "name": "stdout",
     "output_type": "stream",
     "text": [
      "first_name: faizan\n",
      "last_name: munir\n",
      "country: pakistan\n",
      "city: karachi\n",
      "first_name: faizan\n",
      "last_name: munir\n",
      "country: pakistan\n",
      "city: karachi\n",
      "education: undergraduate\n",
      "first_name: faizan\n",
      "last_name: munir\n",
      "country: pakistan\n",
      "city: karachi\n",
      "education:  BE CSE \n"
     ]
    }
   ],
   "source": [
    "# question 1\n",
    "person_detail = []\n",
    "\n",
    "information = {\n",
    "   'first_name' : 'faizan',\n",
    "        'last_name' : 'munir',\n",
    "        'country' : 'pakistan',\n",
    "        'city' : 'karachi'\n",
    "}\n",
    "person_detail.append(information)\n",
    "\n",
    "information = {\n",
    "    'first_name' : 'faizan',\n",
    "        'last_name' : 'munir',\n",
    "        'country' : 'pakistan',\n",
    "        'city' : 'karachi',\n",
    "    'education' : 'undergraduate'\n",
    "}\n",
    "person_detail.append(information)\n",
    "\n",
    "information = {\n",
    "    'first_name' : 'faizan',\n",
    "        'last_name' : 'munir',\n",
    "        'country' : 'pakistan',\n",
    "        'city' : 'karachi',\n",
    "    'education' : ' BE CSE '\n",
    "    \n",
    "}\n",
    "person_detail.append(information)\n",
    "\n",
    "for information in person_detail:\n",
    "    for key, value in information.items():\n",
    "        print( key + \": \" + value  )"
   ]
  },
  {
   "cell_type": "code",
   "execution_count": 2,
   "metadata": {},
   "outputs": [
    {
     "name": "stdout",
     "output_type": "stream",
     "text": [
      "first_name faizan\n",
      "last_name munir\n",
      "country pakistan\n",
      "city karachi\n",
      " \n",
      " add qualification \n",
      " \n",
      "first_name faizan\n",
      "last_name munir\n",
      "country pakistan\n",
      "city karachi\n",
      "education undergraduate\n",
      "\n",
      " update qualification \n",
      "\n",
      "first_name faizan\n",
      "last_name munir\n",
      "country pakistan\n",
      "city karachi\n",
      "education graduate in BE (CSE)\n"
     ]
    }
   ],
   "source": [
    "# question 1\n",
    "information = {\n",
    "        'first_name' : 'faizan',\n",
    "        'last_name' : 'munir',\n",
    "        'country' : 'pakistan',\n",
    "        'city' : 'karachi',\n",
    "    }\n",
    "for key, values in information.items():\n",
    "    print (key + ' ' + values)\n",
    "\n",
    "print(' \\n add qualification \\n ')\n",
    "\n",
    "information['education']='undergraduate'\n",
    "for key, values in information.items():\n",
    "    print (key + ' ' + values)\n",
    "print('\\n update qualification \\n')\n",
    "\n",
    "information['education']='graduate in BE (CSE)'\n",
    "for key, values in information.items():\n",
    "    print (key + ' ' + values)"
   ]
  },
  {
   "cell_type": "code",
   "execution_count": 3,
   "metadata": {},
   "outputs": [
    {
     "name": "stdout",
     "output_type": "stream",
     "text": [
      "karachi : {'country': 'pakistan', 'population': '2.5 billions', 'fact': '  very busy peoples '}\n",
      "\n",
      "lahore : {'country': 'pakistan', 'population': '1.5 billions', 'fact': ' they born only for eating foods '}\n",
      "\n",
      "islamabad : {'country': 'pakistan', 'population': '1 billions', 'fact': '  only for politicians '}\n"
     ]
    }
   ],
   "source": [
    "# QUESTION 2\n",
    "CITIES = {\n",
    "    'karachi' : {\n",
    "        'country' : 'pakistan',\n",
    "        'population' : '2.5 billions',\n",
    "        'fact' : '  very busy peoples '\n",
    "    } , '\\n'\n",
    "    \n",
    "    'lahore' : {\n",
    "        'country' : 'pakistan',\n",
    "        'population' : '1.5 billions',\n",
    "        'fact' : ' they born only for eating foods '\n",
    "    }, '\\n'\n",
    "    'islamabad' : {\n",
    "        'country' : 'pakistan',\n",
    "        'population' : '1 billions',\n",
    "        'fact' : '  only for politicians '\n",
    "    }\n",
    "}\n",
    "for key, values in CITIES.items():\n",
    "    print (key + ' : ' + str(values))"
   ]
  },
  {
   "cell_type": "code",
   "execution_count": 4,
   "metadata": {},
   "outputs": [
    {
     "name": "stdout",
     "output_type": "stream",
     "text": [
      "Enter age : 3\n",
      "Ticket is 10$\n",
      "if you want to continue please press yes/exitexit\n"
     ]
    }
   ],
   "source": [
    "# QUESTION 3\n",
    "COUNT='YES'\n",
    "while COUNT != 'exit':\n",
    "    age=int(input(\"Enter age : \"))\n",
    "    if age>12:\n",
    "        print(\"Ticket is 15$\")\n",
    "    elif age>=3:\n",
    "        print(\"Ticket is 10$\")\n",
    "    else:\n",
    "        print(\"Ticket is free\")\n",
    "    COUNT=input( 'if you want to continue please press yes/exit')"
   ]
  },
  {
   "cell_type": "code",
   "execution_count": 5,
   "metadata": {},
   "outputs": [
    {
     "name": "stdout",
     "output_type": "stream",
     "text": [
      "The great book is one of my favorite books.\n"
     ]
    }
   ],
   "source": [
    "#question 4\n",
    "def favorite_book(title):\n",
    "    \"\"\"such as One of my favorite books is Alice in Wonderland.\"\"\"\n",
    "    print(title + \" is one of my favorite books.\")\n",
    "\n",
    "favorite_book('The great book')"
   ]
  },
  {
   "cell_type": "code",
   "execution_count": 6,
   "metadata": {},
   "outputs": [
    {
     "name": "stdout",
     "output_type": "stream",
     "text": [
      " helo !  what is your name\n",
      "FAIZAN\n",
      "Well, FAIZAN, I am thinking of a number between 1 and 30.\n",
      "Enter the Guess Number: 8\n",
      "You Guess Lower Number\n",
      "Computer's Guess Number:  18\n",
      "Enter the Guess Number: 14\n",
      "You Guess Lower Number\n",
      "Computer's Guess Number:  27\n",
      "Enter the Guess Number: 6\n",
      "You Guess Lower Number\n",
      "Computer's Guess Number:  21\n"
     ]
    }
   ],
   "source": [
    "# question 5\n",
    "import random\n",
    "print(' helo !  what is your name' )\n",
    "MyName=input()\n",
    "print('Well, ' + MyName + ', I am thinking of a number between 1 and 30.')\n",
    "count = 0\n",
    "while count < 3:\n",
    "    guessnumb = int(input(\"Enter the Guess Number: \"))\n",
    "    count += 1\n",
    "    rand = random.randint(1,30)\n",
    "    if guessnumb == rand:\n",
    "        print(\"You Guess Correct Number\")\n",
    "    elif guessnumb > rand:\n",
    "        print(\"You Guess Higher Number\")\n",
    "    elif guessnumb < rand:\n",
    "        print(\"You Guess Lower Number\")\n",
    "    print(\"Computer's Guess Number: \",rand)"
   ]
  },
  {
   "cell_type": "code",
   "execution_count": null,
   "metadata": {},
   "outputs": [],
   "source": []
  }
 ],
 "metadata": {
  "kernelspec": {
   "display_name": "Python 3",
   "language": "python",
   "name": "python3"
  },
  "language_info": {
   "codemirror_mode": {
    "name": "ipython",
    "version": 3
   },
   "file_extension": ".py",
   "mimetype": "text/x-python",
   "name": "python",
   "nbconvert_exporter": "python",
   "pygments_lexer": "ipython3",
   "version": "3.7.4"
  }
 },
 "nbformat": 4,
 "nbformat_minor": 2
}
