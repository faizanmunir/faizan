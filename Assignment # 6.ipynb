{
 "cells": [
  {
   "cell_type": "raw",
   "metadata": {},
   "source": [
    "q1.Define Object Oriented Programming Language?\n",
    "\n",
    "Object-oriented programming (OOP) refers to a type of computer programming (software design) in which programmers define the data type of a data structure, and also the types of operations (functions) that can be applied to the data structure.\n"
   ]
  },
  {
   "cell_type": "raw",
   "metadata": {},
   "source": [
    "question2.List down the Benefits of OOP?\n",
    "\n",
    ". Effective problem solving\n",
    ". Flexibility through polymorphism\n",
    ". Reuse of code through inheritance\n",
    ". Modularity for easier troubleshooting\n",
    "\n",
    "pillars of oops\n",
    "1) Data Abstraction\n",
    "2) Inheritance\n",
    "3) Data Encapsulation\n",
    "4) Polymorphism\n",
    "5) Dynamic Binding"
   ]
  },
  {
   "cell_type": "raw",
   "metadata": {},
   "source": [
    " question3.Differentiate between function and method?\n",
    "\n",
    "1.Method is called by its name, but it is associated to an object (dependent).\n",
    "2.A method is implicitly passed the object on which it is invoked.\n",
    "3.It may or may not return any data.\n",
    "4.A method can operate on the data (instance variables) that is contained by the corresponding class\n",
    "\n",
    "\n",
    "1.Function is block of code that is also called by its name. (independent)\n",
    "2.The function can have different parameters or may not have any at all. If any data (parameters) are passed, they are passed explicitly.\n",
    "3.It may or may not return any data.\n",
    "4.Function does not deal with Class and its instance concept."
   ]
  },
  {
   "cell_type": "raw",
   "metadata": {},
   "source": [
    "Question4. define the following terms?\n",
    "\n",
    "class:\n",
    "In object-oriented programming , a class is a template definition of the method s and variable s in a particular kind of object . Thus, an object is a specific instance of a class; it contains real values instead of variables.\n",
    "\n",
    "object:\n",
    "In object-oriented programming (OOP), objects are the things you think about first in designing a program and they are also the units of code that are eventually derived from the process. ... Each object is an instance of a particular class or subclass with the class's own methods or procedures and data variables\n",
    "\n",
    "attribute:\n",
    "In Object-oriented programming(OOP), classes and objects have attributes. Attributes are data stored inside a class or instance and represent the state or quality of the class or instance. In short, attributes store information about the instance\n",
    "\n",
    "behaviour:\n",
    "A class's behavior determines how an instance of that class operates; for example, how it will \"react\" if asked to do something by another class or object or if its internal state changes. Behavior is the only way objects can do anything to themselves or have anything done to them."
   ]
  },
  {
   "cell_type": "code",
   "execution_count": 8,
   "metadata": {},
   "outputs": [
    {
     "name": "stdout",
     "output_type": "stream",
     "text": [
      "altis\n",
      "2017\n",
      "white\n",
      "saloon\n",
      "japanese\n",
      "\n",
      "\n",
      "toyota corrola\n",
      "\n",
      "\n",
      "japan\n",
      "\n",
      "\n",
      "mehran\n",
      "2016\n",
      "white\n",
      "wagonr\n",
      "pakistan\n",
      "\n",
      "\n",
      "suzuki\n",
      "\n",
      "\n",
      "pakistan\n"
     ]
    }
   ],
   "source": [
    "class Cars():\n",
    "    def __init__(self,name,model,colour,types,brand):\n",
    "        self.name = name\n",
    "        self.model = model\n",
    "        self.colour = colour\n",
    "        self.types = types\n",
    "        self.brand = brand\n",
    "    \n",
    "    def company(self,compname):\n",
    "        self.compname = compname\n",
    "    \n",
    "    def assembled(self,assembled):\n",
    "        self.assembled = assembled\n",
    "        \n",
    "        \n",
    "Details = Cars('altis',2017,'white','saloon','japanese')\n",
    "print(Details.name)\n",
    "print(Details.model)\n",
    "print(Details.colour)\n",
    "print(Details.types)\n",
    "print(Details.brand)\n",
    "print('\\n')\n",
    "\n",
    "\n",
    "Details.company('toyota corrola')\n",
    "print(Details.compname)\n",
    "print('\\n')\n",
    "Details.assembled('japan')\n",
    "print(Details.assembled)\n",
    "print('\\n')\n",
    "\n",
    "\n",
    "Details = Cars('mehran',2016,'white','wagonr','pakistan')\n",
    "print(Details.name)\n",
    "print(Details.model)\n",
    "print(Details.colour)\n",
    "print(Details.types)\n",
    "print(Details.brand)\n",
    "print('\\n')\n",
    "Details.company('suzuki')\n",
    "print(Details.compname)\n",
    "print('\\n')\n",
    "Details.assembled('pakistan')\n",
    "print(Details.assembled)    "
   ]
  },
  {
   "cell_type": "code",
   "execution_count": null,
   "metadata": {},
   "outputs": [],
   "source": []
  }
 ],
 "metadata": {
  "kernelspec": {
   "display_name": "Python 3",
   "language": "python",
   "name": "python3"
  },
  "language_info": {
   "codemirror_mode": {
    "name": "ipython",
    "version": 3
   },
   "file_extension": ".py",
   "mimetype": "text/x-python",
   "name": "python",
   "nbconvert_exporter": "python",
   "pygments_lexer": "ipython3",
   "version": "3.7.4"
  }
 },
 "nbformat": 4,
 "nbformat_minor": 2
}
