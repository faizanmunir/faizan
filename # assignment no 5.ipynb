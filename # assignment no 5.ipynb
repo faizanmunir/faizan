{
 "cells": [
  {
   "cell_type": "code",
   "execution_count": 1,
   "metadata": {},
   "outputs": [
    {
     "data": {
      "text/plain": [
       "120"
      ]
     },
     "execution_count": 1,
     "metadata": {},
     "output_type": "execute_result"
    }
   ],
   "source": [
    "# question 1\n",
    "\n",
    "def factorial(n):\n",
    "    \n",
    "    if n == 0:\n",
    "        return 1\n",
    "    else:\n",
    "        return n*factorial(n-1)\n",
    "    print('factorial : ')\n",
    "\n",
    "factorial(5)\n"
   ]
  },
  {
   "cell_type": "code",
   "execution_count": 2,
   "metadata": {},
   "outputs": [
    {
     "name": "stdout",
     "output_type": "stream",
     "text": [
      "Enter the number:3\n",
      "Numb Is Odd\n"
     ]
    }
   ],
   "source": [
    "# question 3\n",
    "\n",
    "def evenodd():\n",
    "    numb=int(input('Enter the number:'))\n",
    "    if numb%2 == 0:\n",
    "        print('Numb Is Even')\n",
    "    else:\n",
    "        print('Numb Is Odd')\n",
    "    \n",
    "evenodd()    "
   ]
  },
  {
   "cell_type": "code",
   "execution_count": 5,
   "metadata": {},
   "outputs": [
    {
     "name": "stdout",
     "output_type": "stream",
     "text": [
      "The string is a palindrome.\n"
     ]
    }
   ],
   "source": [
    "# question 4\n",
    "\n",
    "def ispalindrom():\n",
    "    my_str = 'mam'\n",
    "    my_str = my_str.casefold()\n",
    "    rev_str = reversed(my_str)\n",
    "    if list(my_str) == list(rev_str):\n",
    "        print(\"The string is a palindrome.\")\n",
    "    else:\n",
    "        print(\"The string is not a palindrome.\")\n",
    "            \n",
    "ispalindrom()"
   ]
  },
  {
   "cell_type": "code",
   "execution_count": 25,
   "metadata": {},
   "outputs": [
    {
     "name": "stdout",
     "output_type": "stream",
     "text": [
      "12 is not a prime number\n"
     ]
    }
   ],
   "source": [
    "# question 5\n",
    "def primetest(num=12):\n",
    "    if num > 1:\n",
    "        for i in range(2, num):\n",
    "            if (num % i) == 0:\n",
    "                print(num, \"is not a prime number\")\n",
    "                break\n",
    "            else:\n",
    "                print(num, \"is a prime number\")\n",
    "                break\n",
    "primetest()  "
   ]
  },
  {
   "cell_type": "code",
   "execution_count": 28,
   "metadata": {},
   "outputs": [
    {
     "name": "stdout",
     "output_type": "stream",
     "text": [
      "Faizan,03463538592,faizanmunir4@gmail.com\n",
      "electronic\n",
      "accesories\n",
      "e.g\n"
     ]
    }
   ],
   "source": [
    "# question 6 \n",
    "def custinfo():\n",
    "    \n",
    "    name='Faizan'\n",
    "    phone='03463538592'\n",
    "    email='faizanmunir4@gmail.com'\n",
    "    print(name +','+ phone +','+ email)\n",
    "\n",
    "custinfo()\n",
    "\n",
    "def custitems(*param):\n",
    "    for values in param:\n",
    "        print(values)\n",
    "        \n",
    "custitems('electronic','accesories','e.g')\n",
    "\n"
   ]
  },
  {
   "cell_type": "code",
   "execution_count": 29,
   "metadata": {},
   "outputs": [
    {
     "name": "stdout",
     "output_type": "stream",
     "text": [
      " string is: FAizan MUNIr\n",
      "The number of lowercase characters is: 6\n",
      "The number of uppercase characters is: 5\n"
     ]
    }
   ],
   "source": [
    "# question 2\n",
    "def funcstr(string):\n",
    "    val={'uppercase':0,\n",
    "         'lowercase':0\n",
    "        }\n",
    "    for a in string:\n",
    "        if a.isupper():\n",
    "            val['uppercase'] += 1\n",
    "        elif a.islower():\n",
    "            val['lowercase'] += 1\n",
    "    print(' string is:',string)\n",
    "    print(\"The number of lowercase characters is:\",val['uppercase'])\n",
    "    print(\"The number of uppercase characters is:\",val['lowercase'])\n",
    "\n",
    "funcstr('FAizan MUNIr')\n",
    "\n"
   ]
  },
  {
   "cell_type": "code",
   "execution_count": null,
   "metadata": {},
   "outputs": [],
   "source": []
  }
 ],
 "metadata": {
  "kernelspec": {
   "display_name": "Python 3",
   "language": "python",
   "name": "python3"
  },
  "language_info": {
   "codemirror_mode": {
    "name": "ipython",
    "version": 3
   },
   "file_extension": ".py",
   "mimetype": "text/x-python",
   "name": "python",
   "nbconvert_exporter": "python",
   "pygments_lexer": "ipython3",
   "version": "3.7.4"
  }
 },
 "nbformat": 4,
 "nbformat_minor": 2
}
